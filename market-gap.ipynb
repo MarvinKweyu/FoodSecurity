{
 "cells": [
  {
   "cell_type": "code",
   "execution_count": null,
   "metadata": {},
   "outputs": [],
   "source": []
  },
  {
   "cell_type": "markdown",
   "metadata": {},
   "source": [
    "# Trade in areas with food security concerns\n",
    "\n",
    "- Milk production per county over time\n",
    "- Cattle prices and goat prices line graphs \n",
    "- Maize prices against vegetation condition\n",
    "- Maize prices against livestock condition"
   ]
  },
  {
   "cell_type": "code",
   "execution_count": 3,
   "metadata": {},
   "outputs": [],
   "source": [
    "import pandas as pd\n",
    "import plotly\n",
    "import numpy as np\n",
    "import geopandas as gpd\n",
    "import plotly.graph_objects as go\n",
    "import plotly.express as px\n",
    "\n",
    "#  Read relevant files\n",
    "data_values = pd.read_excel('./data-source/Data_values.xlsx',index_col=0)\n",
    "data_labels = pd.read_csv('./data-source/data_labels_cleaned.csv')\n",
    "shapefile = 'data-source/County/County.shp'\n",
    "county = gpd.read_file(shapefile)\n"
   ]
  },
  {
   "cell_type": "code",
   "execution_count": 5,
   "metadata": {},
   "outputs": [
    {
     "data": {
      "text/html": [
       "<div>\n",
       "<style scoped>\n",
       "    .dataframe tbody tr th:only-of-type {\n",
       "        vertical-align: middle;\n",
       "    }\n",
       "\n",
       "    .dataframe tbody tr th {\n",
       "        vertical-align: top;\n",
       "    }\n",
       "\n",
       "    .dataframe thead th {\n",
       "        text-align: right;\n",
       "    }\n",
       "</style>\n",
       "<table border=\"1\" class=\"dataframe\">\n",
       "  <thead>\n",
       "    <tr style=\"text-align: right;\">\n",
       "      <th></th>\n",
       "      <th>Unnamed: 0</th>\n",
       "      <th>Year:</th>\n",
       "      <th>Month:</th>\n",
       "      <th>County:</th>\n",
       "      <th>Vegetation Condition Index(VIC):</th>\n",
       "      <th>Pasture condition:</th>\n",
       "      <th>Browse condition:</th>\n",
       "      <th>Cattle body condition:</th>\n",
       "      <th>Goats body condition:</th>\n",
       "      <th>Current milk production:</th>\n",
       "      <th>...</th>\n",
       "      <th>Drought phase classification:</th>\n",
       "      <th>_id</th>\n",
       "      <th>_uuid</th>\n",
       "      <th>_submission_time</th>\n",
       "      <th>_validation_status</th>\n",
       "      <th>_notes</th>\n",
       "      <th>_status</th>\n",
       "      <th>_submitted_by</th>\n",
       "      <th>_tags</th>\n",
       "      <th>_index</th>\n",
       "    </tr>\n",
       "  </thead>\n",
       "  <tbody>\n",
       "    <tr>\n",
       "      <th>0</th>\n",
       "      <td>0</td>\n",
       "      <td>2021.0</td>\n",
       "      <td>October</td>\n",
       "      <td>Baringo</td>\n",
       "      <td>Vegetation greenness Above normal</td>\n",
       "      <td>2.0</td>\n",
       "      <td>2.0</td>\n",
       "      <td>2.0</td>\n",
       "      <td>2.0</td>\n",
       "      <td>Below LTA</td>\n",
       "      <td>...</td>\n",
       "      <td>Normal</td>\n",
       "      <td>245527865</td>\n",
       "      <td>ff4a50fb-8ae6-4a94-83a2-281d3e79c962</td>\n",
       "      <td>2021-12-26 12:20:48</td>\n",
       "      <td>NaN</td>\n",
       "      <td>NaN</td>\n",
       "      <td>submitted_via_web</td>\n",
       "      <td>NaN</td>\n",
       "      <td>NaN</td>\n",
       "      <td>1</td>\n",
       "    </tr>\n",
       "    <tr>\n",
       "      <th>1</th>\n",
       "      <td>1</td>\n",
       "      <td>2021.0</td>\n",
       "      <td>October</td>\n",
       "      <td>Mandera</td>\n",
       "      <td>Normal vegetation greenness</td>\n",
       "      <td>1.0</td>\n",
       "      <td>1.0</td>\n",
       "      <td>1.0</td>\n",
       "      <td>1.0</td>\n",
       "      <td>Below LTA</td>\n",
       "      <td>...</td>\n",
       "      <td>Alarm</td>\n",
       "      <td>245529617</td>\n",
       "      <td>8183eae7-2557-431b-a027-17ed9beb9b17</td>\n",
       "      <td>2021-12-26 12:25:43</td>\n",
       "      <td>NaN</td>\n",
       "      <td>NaN</td>\n",
       "      <td>submitted_via_web</td>\n",
       "      <td>NaN</td>\n",
       "      <td>NaN</td>\n",
       "      <td>2</td>\n",
       "    </tr>\n",
       "    <tr>\n",
       "      <th>2</th>\n",
       "      <td>3</td>\n",
       "      <td>2021.0</td>\n",
       "      <td>October</td>\n",
       "      <td>Marsabit</td>\n",
       "      <td>Normal vegetation greenness</td>\n",
       "      <td>1.0</td>\n",
       "      <td>1.0</td>\n",
       "      <td>1.0</td>\n",
       "      <td>1.0</td>\n",
       "      <td>Below LTA</td>\n",
       "      <td>...</td>\n",
       "      <td>Alarm</td>\n",
       "      <td>245532306</td>\n",
       "      <td>f359784a-69b5-4b98-9ee9-d84b0143b75e</td>\n",
       "      <td>2021-12-26 12:36:23</td>\n",
       "      <td>NaN</td>\n",
       "      <td>NaN</td>\n",
       "      <td>submitted_via_web</td>\n",
       "      <td>NaN</td>\n",
       "      <td>NaN</td>\n",
       "      <td>4</td>\n",
       "    </tr>\n",
       "    <tr>\n",
       "      <th>3</th>\n",
       "      <td>4</td>\n",
       "      <td>2021.0</td>\n",
       "      <td>October</td>\n",
       "      <td>Wajir</td>\n",
       "      <td>Normal vegetation greenness</td>\n",
       "      <td>1.0</td>\n",
       "      <td>1.0</td>\n",
       "      <td>1.0</td>\n",
       "      <td>1.0</td>\n",
       "      <td>Below LTA</td>\n",
       "      <td>...</td>\n",
       "      <td>Alarm</td>\n",
       "      <td>245533188</td>\n",
       "      <td>83b132d7-2797-4bd8-a66d-6fdfdb4a5180</td>\n",
       "      <td>2021-12-26 12:41:24</td>\n",
       "      <td>NaN</td>\n",
       "      <td>NaN</td>\n",
       "      <td>submitted_via_web</td>\n",
       "      <td>NaN</td>\n",
       "      <td>NaN</td>\n",
       "      <td>5</td>\n",
       "    </tr>\n",
       "    <tr>\n",
       "      <th>4</th>\n",
       "      <td>5</td>\n",
       "      <td>2021.0</td>\n",
       "      <td>October</td>\n",
       "      <td>Samburu</td>\n",
       "      <td>Normal vegetation greenness</td>\n",
       "      <td>1.0</td>\n",
       "      <td>1.0</td>\n",
       "      <td>1.0</td>\n",
       "      <td>1.0</td>\n",
       "      <td>At LTA</td>\n",
       "      <td>...</td>\n",
       "      <td>Alert</td>\n",
       "      <td>245534037</td>\n",
       "      <td>d2e0ad81-d891-4635-adaa-864c2da8ec52</td>\n",
       "      <td>2021-12-26 12:45:04</td>\n",
       "      <td>NaN</td>\n",
       "      <td>NaN</td>\n",
       "      <td>submitted_via_web</td>\n",
       "      <td>NaN</td>\n",
       "      <td>NaN</td>\n",
       "      <td>6</td>\n",
       "    </tr>\n",
       "  </tbody>\n",
       "</table>\n",
       "<p>5 rows × 28 columns</p>\n",
       "</div>"
      ],
      "text/plain": [
       "   Unnamed: 0   Year:   Month:   County:   Vegetation Condition Index(VIC):  \\\n",
       "0           0  2021.0  October   Baringo  Vegetation greenness Above normal   \n",
       "1           1  2021.0  October   Mandera        Normal vegetation greenness   \n",
       "2           3  2021.0  October  Marsabit        Normal vegetation greenness   \n",
       "3           4  2021.0  October     Wajir        Normal vegetation greenness   \n",
       "4           5  2021.0  October   Samburu        Normal vegetation greenness   \n",
       "\n",
       "   Pasture condition:  Browse condition:  Cattle body condition:  \\\n",
       "0                 2.0                2.0                     2.0   \n",
       "1                 1.0                1.0                     1.0   \n",
       "2                 1.0                1.0                     1.0   \n",
       "3                 1.0                1.0                     1.0   \n",
       "4                 1.0                1.0                     1.0   \n",
       "\n",
       "   Goats body condition: Current milk production:  ...  \\\n",
       "0                    2.0                Below LTA  ...   \n",
       "1                    1.0                Below LTA  ...   \n",
       "2                    1.0                Below LTA  ...   \n",
       "3                    1.0                Below LTA  ...   \n",
       "4                    1.0                   At LTA  ...   \n",
       "\n",
       "  Drought phase classification:        _id  \\\n",
       "0                        Normal  245527865   \n",
       "1                         Alarm  245529617   \n",
       "2                         Alarm  245532306   \n",
       "3                         Alarm  245533188   \n",
       "4                         Alert  245534037   \n",
       "\n",
       "                                  _uuid     _submission_time  \\\n",
       "0  ff4a50fb-8ae6-4a94-83a2-281d3e79c962  2021-12-26 12:20:48   \n",
       "1  8183eae7-2557-431b-a027-17ed9beb9b17  2021-12-26 12:25:43   \n",
       "2  f359784a-69b5-4b98-9ee9-d84b0143b75e  2021-12-26 12:36:23   \n",
       "3  83b132d7-2797-4bd8-a66d-6fdfdb4a5180  2021-12-26 12:41:24   \n",
       "4  d2e0ad81-d891-4635-adaa-864c2da8ec52  2021-12-26 12:45:04   \n",
       "\n",
       "  _validation_status _notes            _status _submitted_by _tags  _index  \n",
       "0                NaN    NaN  submitted_via_web           NaN   NaN       1  \n",
       "1                NaN    NaN  submitted_via_web           NaN   NaN       2  \n",
       "2                NaN    NaN  submitted_via_web           NaN   NaN       4  \n",
       "3                NaN    NaN  submitted_via_web           NaN   NaN       5  \n",
       "4                NaN    NaN  submitted_via_web           NaN   NaN       6  \n",
       "\n",
       "[5 rows x 28 columns]"
      ]
     },
     "execution_count": 5,
     "metadata": {},
     "output_type": "execute_result"
    }
   ],
   "source": [
    "data_labels.head()"
   ]
  },
  {
   "cell_type": "code",
   "execution_count": 8,
   "metadata": {},
   "outputs": [
    {
     "data": {
      "text/html": [
       "<div>\n",
       "<style scoped>\n",
       "    .dataframe tbody tr th:only-of-type {\n",
       "        vertical-align: middle;\n",
       "    }\n",
       "\n",
       "    .dataframe tbody tr th {\n",
       "        vertical-align: top;\n",
       "    }\n",
       "\n",
       "    .dataframe thead th {\n",
       "        text-align: right;\n",
       "    }\n",
       "</style>\n",
       "<table border=\"1\" class=\"dataframe\">\n",
       "  <thead>\n",
       "    <tr style=\"text-align: right;\">\n",
       "      <th></th>\n",
       "      <th>County:</th>\n",
       "      <th>Unnamed: 0</th>\n",
       "      <th>Year:</th>\n",
       "      <th>Pasture condition:</th>\n",
       "      <th>Browse condition:</th>\n",
       "      <th>Cattle body condition:</th>\n",
       "      <th>Goats body condition:</th>\n",
       "      <th>_id</th>\n",
       "      <th>_validation_status</th>\n",
       "      <th>_notes</th>\n",
       "      <th>_submitted_by</th>\n",
       "      <th>_tags</th>\n",
       "      <th>_index</th>\n",
       "    </tr>\n",
       "  </thead>\n",
       "  <tbody>\n",
       "    <tr>\n",
       "      <th>0</th>\n",
       "      <td>Baringo</td>\n",
       "      <td>338.903226</td>\n",
       "      <td>2019.612903</td>\n",
       "      <td>2.290323</td>\n",
       "      <td>2.419355</td>\n",
       "      <td>2.387097</td>\n",
       "      <td>2.387097</td>\n",
       "      <td>2.464611e+08</td>\n",
       "      <td>NaN</td>\n",
       "      <td>NaN</td>\n",
       "      <td>NaN</td>\n",
       "      <td>NaN</td>\n",
       "      <td>339.903226</td>\n",
       "    </tr>\n",
       "    <tr>\n",
       "      <th>1</th>\n",
       "      <td>Embu</td>\n",
       "      <td>346.379310</td>\n",
       "      <td>2019.758621</td>\n",
       "      <td>2.137931</td>\n",
       "      <td>2.206897</td>\n",
       "      <td>2.448276</td>\n",
       "      <td>2.655172</td>\n",
       "      <td>2.464675e+08</td>\n",
       "      <td>NaN</td>\n",
       "      <td>NaN</td>\n",
       "      <td>NaN</td>\n",
       "      <td>NaN</td>\n",
       "      <td>347.379310</td>\n",
       "    </tr>\n",
       "    <tr>\n",
       "      <th>2</th>\n",
       "      <td>Garissa</td>\n",
       "      <td>323.678571</td>\n",
       "      <td>2019.785714</td>\n",
       "      <td>2.000000</td>\n",
       "      <td>2.035714</td>\n",
       "      <td>2.178571</td>\n",
       "      <td>2.321429</td>\n",
       "      <td>2.464311e+08</td>\n",
       "      <td>NaN</td>\n",
       "      <td>NaN</td>\n",
       "      <td>NaN</td>\n",
       "      <td>NaN</td>\n",
       "      <td>324.678571</td>\n",
       "    </tr>\n",
       "    <tr>\n",
       "      <th>3</th>\n",
       "      <td>Isiolo</td>\n",
       "      <td>319.074074</td>\n",
       "      <td>2019.851852</td>\n",
       "      <td>1.962963</td>\n",
       "      <td>1.925926</td>\n",
       "      <td>2.259259</td>\n",
       "      <td>2.259259</td>\n",
       "      <td>2.464201e+08</td>\n",
       "      <td>NaN</td>\n",
       "      <td>NaN</td>\n",
       "      <td>NaN</td>\n",
       "      <td>NaN</td>\n",
       "      <td>320.074074</td>\n",
       "    </tr>\n",
       "    <tr>\n",
       "      <th>4</th>\n",
       "      <td>Kajiado</td>\n",
       "      <td>327.714286</td>\n",
       "      <td>2019.785714</td>\n",
       "      <td>2.321429</td>\n",
       "      <td>2.500000</td>\n",
       "      <td>2.535714</td>\n",
       "      <td>2.714286</td>\n",
       "      <td>2.464349e+08</td>\n",
       "      <td>NaN</td>\n",
       "      <td>NaN</td>\n",
       "      <td>NaN</td>\n",
       "      <td>NaN</td>\n",
       "      <td>328.714286</td>\n",
       "    </tr>\n",
       "  </tbody>\n",
       "</table>\n",
       "</div>"
      ],
      "text/plain": [
       "   County:  Unnamed: 0        Year:  Pasture condition:  Browse condition:  \\\n",
       "0  Baringo  338.903226  2019.612903            2.290323           2.419355   \n",
       "1     Embu  346.379310  2019.758621            2.137931           2.206897   \n",
       "2  Garissa  323.678571  2019.785714            2.000000           2.035714   \n",
       "3   Isiolo  319.074074  2019.851852            1.962963           1.925926   \n",
       "4  Kajiado  327.714286  2019.785714            2.321429           2.500000   \n",
       "\n",
       "   Cattle body condition:  Goats body condition:           _id  \\\n",
       "0                2.387097               2.387097  2.464611e+08   \n",
       "1                2.448276               2.655172  2.464675e+08   \n",
       "2                2.178571               2.321429  2.464311e+08   \n",
       "3                2.259259               2.259259  2.464201e+08   \n",
       "4                2.535714               2.714286  2.464349e+08   \n",
       "\n",
       "   _validation_status  _notes  _submitted_by  _tags      _index  \n",
       "0                 NaN     NaN            NaN    NaN  339.903226  \n",
       "1                 NaN     NaN            NaN    NaN  347.379310  \n",
       "2                 NaN     NaN            NaN    NaN  324.678571  \n",
       "3                 NaN     NaN            NaN    NaN  320.074074  \n",
       "4                 NaN     NaN            NaN    NaN  328.714286  "
      ]
     },
     "execution_count": 8,
     "metadata": {},
     "output_type": "execute_result"
    }
   ],
   "source": [
    "drought_by_county = data_labels.groupby([\"County:\"]).mean().reset_index()\n",
    "drought_by_county.head()"
   ]
  },
  {
   "cell_type": "code",
   "execution_count": 9,
   "metadata": {},
   "outputs": [
    {
     "data": {
      "application/vnd.plotly.v1+json": {
       "config": {
        "plotlyServerURL": "https://plot.ly"
       },
       "data": [
        {
         "name": "Baringo",
         "type": "scatter",
         "visible": false,
         "x": [
          2019.6129032258063
         ],
         "y": [
          2.2903225806451615
         ]
        },
        {
         "name": "Embu",
         "type": "scatter",
         "visible": false,
         "x": [
          2019.7586206896551
         ],
         "y": [
          2.1379310344827585
         ]
        },
        {
         "name": "Garissa",
         "type": "scatter",
         "visible": false,
         "x": [
          2019.7857142857142
         ],
         "y": [
          2
         ]
        },
        {
         "name": "Isiolo",
         "type": "scatter",
         "visible": false,
         "x": [
          2019.851851851852
         ],
         "y": [
          1.962962962962963
         ]
        },
        {
         "name": "Kajiado",
         "type": "scatter",
         "visible": false,
         "x": [
          2019.7857142857142
         ],
         "y": [
          2.3214285714285716
         ]
        },
        {
         "name": "Kilifi",
         "type": "scatter",
         "visible": false,
         "x": [
          2019.7857142857142
         ],
         "y": [
          2.2857142857142856
         ]
        },
        {
         "name": "Kitui",
         "type": "scatter",
         "visible": false,
         "x": [
          2019.8148148148148
         ],
         "y": [
          2.111111111111111
         ]
        },
        {
         "name": "Kwale",
         "type": "scatter",
         "visible": false,
         "x": [
          2019.7407407407406
         ],
         "y": [
          2.2962962962962963
         ]
        },
        {
         "name": "Laikipia",
         "type": "scatter",
         "visible": false,
         "x": [
          2019.8461538461538
         ],
         "y": [
          2.1538461538461537
         ]
        },
        {
         "name": "Lamu",
         "type": "scatter",
         "visible": false,
         "x": [
          2019.7857142857142
         ],
         "y": [
          2.3214285714285716
         ]
        },
        {
         "name": "Makueni",
         "type": "scatter",
         "visible": false,
         "x": [
          2019.7857142857142
         ],
         "y": [
          2.1785714285714284
         ]
        },
        {
         "name": "Mandera",
         "type": "scatter",
         "visible": false,
         "x": [
          2019.7
         ],
         "y": [
          1.8333333333333333
         ]
        },
        {
         "name": "Marsabit",
         "type": "scatter",
         "visible": false,
         "x": [
          2019.7241379310344
         ],
         "y": [
          2.2758620689655173
         ]
        },
        {
         "name": "Meru",
         "type": "scatter",
         "visible": false,
         "x": [
          2019.7857142857142
         ],
         "y": [
          2.1785714285714284
         ]
        },
        {
         "name": "Narok",
         "type": "scatter",
         "visible": false,
         "x": [
          2019.7777777777778
         ],
         "y": [
          2.5185185185185186
         ]
        },
        {
         "name": "Nyeri",
         "type": "scatter",
         "visible": false,
         "x": [
          2019.7857142857142
         ],
         "y": [
          2.107142857142857
         ]
        },
        {
         "name": "Samburu",
         "type": "scatter",
         "visible": false,
         "x": [
          2019.7857142857142
         ],
         "y": [
          2.2857142857142856
         ]
        },
        {
         "name": "Taita taveta",
         "type": "scatter",
         "visible": false,
         "x": [
          2019.7857142857142
         ],
         "y": [
          2.607142857142857
         ]
        },
        {
         "name": "Tana river",
         "type": "scatter",
         "visible": false,
         "x": [
          2019.7857142857142
         ],
         "y": [
          1.9642857142857142
         ]
        },
        {
         "name": "Tharaka nithi",
         "type": "scatter",
         "visible": false,
         "x": [
          2019.7857142857142
         ],
         "y": [
          2.1785714285714284
         ]
        },
        {
         "name": "Turkana",
         "type": "scatter",
         "visible": false,
         "x": [
          2019.607142857143
         ],
         "y": [
          2.0357142857142856
         ]
        },
        {
         "name": "Wajir",
         "type": "scatter",
         "visible": false,
         "x": [
          2019.6666666666667
         ],
         "y": [
          2.033333333333333
         ]
        },
        {
         "name": "West pokot",
         "type": "scatter",
         "visible": false,
         "x": [
          2019.7857142857142
         ],
         "y": [
          2.607142857142857
         ]
        }
       ],
       "layout": {
        "autosize": false,
        "height": 800,
        "template": {
         "data": {
          "bar": [
           {
            "error_x": {
             "color": "#2a3f5f"
            },
            "error_y": {
             "color": "#2a3f5f"
            },
            "marker": {
             "line": {
              "color": "#E5ECF6",
              "width": 0.5
             },
             "pattern": {
              "fillmode": "overlay",
              "size": 10,
              "solidity": 0.2
             }
            },
            "type": "bar"
           }
          ],
          "barpolar": [
           {
            "marker": {
             "line": {
              "color": "#E5ECF6",
              "width": 0.5
             },
             "pattern": {
              "fillmode": "overlay",
              "size": 10,
              "solidity": 0.2
             }
            },
            "type": "barpolar"
           }
          ],
          "carpet": [
           {
            "aaxis": {
             "endlinecolor": "#2a3f5f",
             "gridcolor": "white",
             "linecolor": "white",
             "minorgridcolor": "white",
             "startlinecolor": "#2a3f5f"
            },
            "baxis": {
             "endlinecolor": "#2a3f5f",
             "gridcolor": "white",
             "linecolor": "white",
             "minorgridcolor": "white",
             "startlinecolor": "#2a3f5f"
            },
            "type": "carpet"
           }
          ],
          "choropleth": [
           {
            "colorbar": {
             "outlinewidth": 0,
             "ticks": ""
            },
            "type": "choropleth"
           }
          ],
          "contour": [
           {
            "colorbar": {
             "outlinewidth": 0,
             "ticks": ""
            },
            "colorscale": [
             [
              0,
              "#0d0887"
             ],
             [
              0.1111111111111111,
              "#46039f"
             ],
             [
              0.2222222222222222,
              "#7201a8"
             ],
             [
              0.3333333333333333,
              "#9c179e"
             ],
             [
              0.4444444444444444,
              "#bd3786"
             ],
             [
              0.5555555555555556,
              "#d8576b"
             ],
             [
              0.6666666666666666,
              "#ed7953"
             ],
             [
              0.7777777777777778,
              "#fb9f3a"
             ],
             [
              0.8888888888888888,
              "#fdca26"
             ],
             [
              1,
              "#f0f921"
             ]
            ],
            "type": "contour"
           }
          ],
          "contourcarpet": [
           {
            "colorbar": {
             "outlinewidth": 0,
             "ticks": ""
            },
            "type": "contourcarpet"
           }
          ],
          "heatmap": [
           {
            "colorbar": {
             "outlinewidth": 0,
             "ticks": ""
            },
            "colorscale": [
             [
              0,
              "#0d0887"
             ],
             [
              0.1111111111111111,
              "#46039f"
             ],
             [
              0.2222222222222222,
              "#7201a8"
             ],
             [
              0.3333333333333333,
              "#9c179e"
             ],
             [
              0.4444444444444444,
              "#bd3786"
             ],
             [
              0.5555555555555556,
              "#d8576b"
             ],
             [
              0.6666666666666666,
              "#ed7953"
             ],
             [
              0.7777777777777778,
              "#fb9f3a"
             ],
             [
              0.8888888888888888,
              "#fdca26"
             ],
             [
              1,
              "#f0f921"
             ]
            ],
            "type": "heatmap"
           }
          ],
          "heatmapgl": [
           {
            "colorbar": {
             "outlinewidth": 0,
             "ticks": ""
            },
            "colorscale": [
             [
              0,
              "#0d0887"
             ],
             [
              0.1111111111111111,
              "#46039f"
             ],
             [
              0.2222222222222222,
              "#7201a8"
             ],
             [
              0.3333333333333333,
              "#9c179e"
             ],
             [
              0.4444444444444444,
              "#bd3786"
             ],
             [
              0.5555555555555556,
              "#d8576b"
             ],
             [
              0.6666666666666666,
              "#ed7953"
             ],
             [
              0.7777777777777778,
              "#fb9f3a"
             ],
             [
              0.8888888888888888,
              "#fdca26"
             ],
             [
              1,
              "#f0f921"
             ]
            ],
            "type": "heatmapgl"
           }
          ],
          "histogram": [
           {
            "marker": {
             "pattern": {
              "fillmode": "overlay",
              "size": 10,
              "solidity": 0.2
             }
            },
            "type": "histogram"
           }
          ],
          "histogram2d": [
           {
            "colorbar": {
             "outlinewidth": 0,
             "ticks": ""
            },
            "colorscale": [
             [
              0,
              "#0d0887"
             ],
             [
              0.1111111111111111,
              "#46039f"
             ],
             [
              0.2222222222222222,
              "#7201a8"
             ],
             [
              0.3333333333333333,
              "#9c179e"
             ],
             [
              0.4444444444444444,
              "#bd3786"
             ],
             [
              0.5555555555555556,
              "#d8576b"
             ],
             [
              0.6666666666666666,
              "#ed7953"
             ],
             [
              0.7777777777777778,
              "#fb9f3a"
             ],
             [
              0.8888888888888888,
              "#fdca26"
             ],
             [
              1,
              "#f0f921"
             ]
            ],
            "type": "histogram2d"
           }
          ],
          "histogram2dcontour": [
           {
            "colorbar": {
             "outlinewidth": 0,
             "ticks": ""
            },
            "colorscale": [
             [
              0,
              "#0d0887"
             ],
             [
              0.1111111111111111,
              "#46039f"
             ],
             [
              0.2222222222222222,
              "#7201a8"
             ],
             [
              0.3333333333333333,
              "#9c179e"
             ],
             [
              0.4444444444444444,
              "#bd3786"
             ],
             [
              0.5555555555555556,
              "#d8576b"
             ],
             [
              0.6666666666666666,
              "#ed7953"
             ],
             [
              0.7777777777777778,
              "#fb9f3a"
             ],
             [
              0.8888888888888888,
              "#fdca26"
             ],
             [
              1,
              "#f0f921"
             ]
            ],
            "type": "histogram2dcontour"
           }
          ],
          "mesh3d": [
           {
            "colorbar": {
             "outlinewidth": 0,
             "ticks": ""
            },
            "type": "mesh3d"
           }
          ],
          "parcoords": [
           {
            "line": {
             "colorbar": {
              "outlinewidth": 0,
              "ticks": ""
             }
            },
            "type": "parcoords"
           }
          ],
          "pie": [
           {
            "automargin": true,
            "type": "pie"
           }
          ],
          "scatter": [
           {
            "marker": {
             "colorbar": {
              "outlinewidth": 0,
              "ticks": ""
             }
            },
            "type": "scatter"
           }
          ],
          "scatter3d": [
           {
            "line": {
             "colorbar": {
              "outlinewidth": 0,
              "ticks": ""
             }
            },
            "marker": {
             "colorbar": {
              "outlinewidth": 0,
              "ticks": ""
             }
            },
            "type": "scatter3d"
           }
          ],
          "scattercarpet": [
           {
            "marker": {
             "colorbar": {
              "outlinewidth": 0,
              "ticks": ""
             }
            },
            "type": "scattercarpet"
           }
          ],
          "scattergeo": [
           {
            "marker": {
             "colorbar": {
              "outlinewidth": 0,
              "ticks": ""
             }
            },
            "type": "scattergeo"
           }
          ],
          "scattergl": [
           {
            "marker": {
             "colorbar": {
              "outlinewidth": 0,
              "ticks": ""
             }
            },
            "type": "scattergl"
           }
          ],
          "scattermapbox": [
           {
            "marker": {
             "colorbar": {
              "outlinewidth": 0,
              "ticks": ""
             }
            },
            "type": "scattermapbox"
           }
          ],
          "scatterpolar": [
           {
            "marker": {
             "colorbar": {
              "outlinewidth": 0,
              "ticks": ""
             }
            },
            "type": "scatterpolar"
           }
          ],
          "scatterpolargl": [
           {
            "marker": {
             "colorbar": {
              "outlinewidth": 0,
              "ticks": ""
             }
            },
            "type": "scatterpolargl"
           }
          ],
          "scatterternary": [
           {
            "marker": {
             "colorbar": {
              "outlinewidth": 0,
              "ticks": ""
             }
            },
            "type": "scatterternary"
           }
          ],
          "surface": [
           {
            "colorbar": {
             "outlinewidth": 0,
             "ticks": ""
            },
            "colorscale": [
             [
              0,
              "#0d0887"
             ],
             [
              0.1111111111111111,
              "#46039f"
             ],
             [
              0.2222222222222222,
              "#7201a8"
             ],
             [
              0.3333333333333333,
              "#9c179e"
             ],
             [
              0.4444444444444444,
              "#bd3786"
             ],
             [
              0.5555555555555556,
              "#d8576b"
             ],
             [
              0.6666666666666666,
              "#ed7953"
             ],
             [
              0.7777777777777778,
              "#fb9f3a"
             ],
             [
              0.8888888888888888,
              "#fdca26"
             ],
             [
              1,
              "#f0f921"
             ]
            ],
            "type": "surface"
           }
          ],
          "table": [
           {
            "cells": {
             "fill": {
              "color": "#EBF0F8"
             },
             "line": {
              "color": "white"
             }
            },
            "header": {
             "fill": {
              "color": "#C8D4E3"
             },
             "line": {
              "color": "white"
             }
            },
            "type": "table"
           }
          ]
         },
         "layout": {
          "annotationdefaults": {
           "arrowcolor": "#2a3f5f",
           "arrowhead": 0,
           "arrowwidth": 1
          },
          "autotypenumbers": "strict",
          "coloraxis": {
           "colorbar": {
            "outlinewidth": 0,
            "ticks": ""
           }
          },
          "colorscale": {
           "diverging": [
            [
             0,
             "#8e0152"
            ],
            [
             0.1,
             "#c51b7d"
            ],
            [
             0.2,
             "#de77ae"
            ],
            [
             0.3,
             "#f1b6da"
            ],
            [
             0.4,
             "#fde0ef"
            ],
            [
             0.5,
             "#f7f7f7"
            ],
            [
             0.6,
             "#e6f5d0"
            ],
            [
             0.7,
             "#b8e186"
            ],
            [
             0.8,
             "#7fbc41"
            ],
            [
             0.9,
             "#4d9221"
            ],
            [
             1,
             "#276419"
            ]
           ],
           "sequential": [
            [
             0,
             "#0d0887"
            ],
            [
             0.1111111111111111,
             "#46039f"
            ],
            [
             0.2222222222222222,
             "#7201a8"
            ],
            [
             0.3333333333333333,
             "#9c179e"
            ],
            [
             0.4444444444444444,
             "#bd3786"
            ],
            [
             0.5555555555555556,
             "#d8576b"
            ],
            [
             0.6666666666666666,
             "#ed7953"
            ],
            [
             0.7777777777777778,
             "#fb9f3a"
            ],
            [
             0.8888888888888888,
             "#fdca26"
            ],
            [
             1,
             "#f0f921"
            ]
           ],
           "sequentialminus": [
            [
             0,
             "#0d0887"
            ],
            [
             0.1111111111111111,
             "#46039f"
            ],
            [
             0.2222222222222222,
             "#7201a8"
            ],
            [
             0.3333333333333333,
             "#9c179e"
            ],
            [
             0.4444444444444444,
             "#bd3786"
            ],
            [
             0.5555555555555556,
             "#d8576b"
            ],
            [
             0.6666666666666666,
             "#ed7953"
            ],
            [
             0.7777777777777778,
             "#fb9f3a"
            ],
            [
             0.8888888888888888,
             "#fdca26"
            ],
            [
             1,
             "#f0f921"
            ]
           ]
          },
          "colorway": [
           "#636efa",
           "#EF553B",
           "#00cc96",
           "#ab63fa",
           "#FFA15A",
           "#19d3f3",
           "#FF6692",
           "#B6E880",
           "#FF97FF",
           "#FECB52"
          ],
          "font": {
           "color": "#2a3f5f"
          },
          "geo": {
           "bgcolor": "white",
           "lakecolor": "white",
           "landcolor": "#E5ECF6",
           "showlakes": true,
           "showland": true,
           "subunitcolor": "white"
          },
          "hoverlabel": {
           "align": "left"
          },
          "hovermode": "closest",
          "mapbox": {
           "style": "light"
          },
          "paper_bgcolor": "white",
          "plot_bgcolor": "#E5ECF6",
          "polar": {
           "angularaxis": {
            "gridcolor": "white",
            "linecolor": "white",
            "ticks": ""
           },
           "bgcolor": "#E5ECF6",
           "radialaxis": {
            "gridcolor": "white",
            "linecolor": "white",
            "ticks": ""
           }
          },
          "scene": {
           "xaxis": {
            "backgroundcolor": "#E5ECF6",
            "gridcolor": "white",
            "gridwidth": 2,
            "linecolor": "white",
            "showbackground": true,
            "ticks": "",
            "zerolinecolor": "white"
           },
           "yaxis": {
            "backgroundcolor": "#E5ECF6",
            "gridcolor": "white",
            "gridwidth": 2,
            "linecolor": "white",
            "showbackground": true,
            "ticks": "",
            "zerolinecolor": "white"
           },
           "zaxis": {
            "backgroundcolor": "#E5ECF6",
            "gridcolor": "white",
            "gridwidth": 2,
            "linecolor": "white",
            "showbackground": true,
            "ticks": "",
            "zerolinecolor": "white"
           }
          },
          "shapedefaults": {
           "line": {
            "color": "#2a3f5f"
           }
          },
          "ternary": {
           "aaxis": {
            "gridcolor": "white",
            "linecolor": "white",
            "ticks": ""
           },
           "baxis": {
            "gridcolor": "white",
            "linecolor": "white",
            "ticks": ""
           },
           "bgcolor": "#E5ECF6",
           "caxis": {
            "gridcolor": "white",
            "linecolor": "white",
            "ticks": ""
           }
          },
          "title": {
           "x": 0.05
          },
          "xaxis": {
           "automargin": true,
           "gridcolor": "white",
           "linecolor": "white",
           "ticks": "",
           "title": {
            "standoff": 15
           },
           "zerolinecolor": "white",
           "zerolinewidth": 2
          },
          "yaxis": {
           "automargin": true,
           "gridcolor": "white",
           "linecolor": "white",
           "ticks": "",
           "title": {
            "standoff": 15
           },
           "zerolinecolor": "white",
           "zerolinewidth": 2
          }
         }
        },
        "updatemenus": [
         {
          "active": 0,
          "buttons": [
           {
            "args": [
             {
              "visible": [
               true,
               false,
               false,
               false,
               false,
               false,
               false,
               false,
               false,
               false,
               false,
               false,
               false,
               false,
               false,
               false,
               false,
               false,
               false,
               false,
               false,
               false,
               false
              ]
             }
            ],
            "label": "Baringo",
            "method": "update"
           },
           {
            "args": [
             {
              "visible": [
               false,
               true,
               false,
               false,
               false,
               false,
               false,
               false,
               false,
               false,
               false,
               false,
               false,
               false,
               false,
               false,
               false,
               false,
               false,
               false,
               false,
               false,
               false
              ]
             }
            ],
            "label": "Embu",
            "method": "update"
           },
           {
            "args": [
             {
              "visible": [
               false,
               false,
               true,
               false,
               false,
               false,
               false,
               false,
               false,
               false,
               false,
               false,
               false,
               false,
               false,
               false,
               false,
               false,
               false,
               false,
               false,
               false,
               false
              ]
             }
            ],
            "label": "Garissa",
            "method": "update"
           },
           {
            "args": [
             {
              "visible": [
               false,
               false,
               false,
               true,
               false,
               false,
               false,
               false,
               false,
               false,
               false,
               false,
               false,
               false,
               false,
               false,
               false,
               false,
               false,
               false,
               false,
               false,
               false
              ]
             }
            ],
            "label": "Isiolo",
            "method": "update"
           },
           {
            "args": [
             {
              "visible": [
               false,
               false,
               false,
               false,
               true,
               false,
               false,
               false,
               false,
               false,
               false,
               false,
               false,
               false,
               false,
               false,
               false,
               false,
               false,
               false,
               false,
               false,
               false
              ]
             }
            ],
            "label": "Kajiado",
            "method": "update"
           },
           {
            "args": [
             {
              "visible": [
               false,
               false,
               false,
               false,
               false,
               true,
               false,
               false,
               false,
               false,
               false,
               false,
               false,
               false,
               false,
               false,
               false,
               false,
               false,
               false,
               false,
               false,
               false
              ]
             }
            ],
            "label": "Kilifi",
            "method": "update"
           },
           {
            "args": [
             {
              "visible": [
               false,
               false,
               false,
               false,
               false,
               false,
               true,
               false,
               false,
               false,
               false,
               false,
               false,
               false,
               false,
               false,
               false,
               false,
               false,
               false,
               false,
               false,
               false
              ]
             }
            ],
            "label": "Kitui",
            "method": "update"
           },
           {
            "args": [
             {
              "visible": [
               false,
               false,
               false,
               false,
               false,
               false,
               false,
               true,
               false,
               false,
               false,
               false,
               false,
               false,
               false,
               false,
               false,
               false,
               false,
               false,
               false,
               false,
               false
              ]
             }
            ],
            "label": "Kwale",
            "method": "update"
           },
           {
            "args": [
             {
              "visible": [
               false,
               false,
               false,
               false,
               false,
               false,
               false,
               false,
               true,
               false,
               false,
               false,
               false,
               false,
               false,
               false,
               false,
               false,
               false,
               false,
               false,
               false,
               false
              ]
             }
            ],
            "label": "Laikipia",
            "method": "update"
           },
           {
            "args": [
             {
              "visible": [
               false,
               false,
               false,
               false,
               false,
               false,
               false,
               false,
               false,
               true,
               false,
               false,
               false,
               false,
               false,
               false,
               false,
               false,
               false,
               false,
               false,
               false,
               false
              ]
             }
            ],
            "label": "Lamu",
            "method": "update"
           },
           {
            "args": [
             {
              "visible": [
               false,
               false,
               false,
               false,
               false,
               false,
               false,
               false,
               false,
               false,
               true,
               false,
               false,
               false,
               false,
               false,
               false,
               false,
               false,
               false,
               false,
               false,
               false
              ]
             }
            ],
            "label": "Makueni",
            "method": "update"
           },
           {
            "args": [
             {
              "visible": [
               false,
               false,
               false,
               false,
               false,
               false,
               false,
               false,
               false,
               false,
               false,
               true,
               false,
               false,
               false,
               false,
               false,
               false,
               false,
               false,
               false,
               false,
               false
              ]
             }
            ],
            "label": "Mandera",
            "method": "update"
           },
           {
            "args": [
             {
              "visible": [
               false,
               false,
               false,
               false,
               false,
               false,
               false,
               false,
               false,
               false,
               false,
               false,
               true,
               false,
               false,
               false,
               false,
               false,
               false,
               false,
               false,
               false,
               false
              ]
             }
            ],
            "label": "Marsabit",
            "method": "update"
           },
           {
            "args": [
             {
              "visible": [
               false,
               false,
               false,
               false,
               false,
               false,
               false,
               false,
               false,
               false,
               false,
               false,
               false,
               true,
               false,
               false,
               false,
               false,
               false,
               false,
               false,
               false,
               false
              ]
             }
            ],
            "label": "Meru",
            "method": "update"
           },
           {
            "args": [
             {
              "visible": [
               false,
               false,
               false,
               false,
               false,
               false,
               false,
               false,
               false,
               false,
               false,
               false,
               false,
               false,
               true,
               false,
               false,
               false,
               false,
               false,
               false,
               false,
               false
              ]
             }
            ],
            "label": "Narok",
            "method": "update"
           },
           {
            "args": [
             {
              "visible": [
               false,
               false,
               false,
               false,
               false,
               false,
               false,
               false,
               false,
               false,
               false,
               false,
               false,
               false,
               false,
               true,
               false,
               false,
               false,
               false,
               false,
               false,
               false
              ]
             }
            ],
            "label": "Nyeri",
            "method": "update"
           },
           {
            "args": [
             {
              "visible": [
               false,
               false,
               false,
               false,
               false,
               false,
               false,
               false,
               false,
               false,
               false,
               false,
               false,
               false,
               false,
               false,
               true,
               false,
               false,
               false,
               false,
               false,
               false
              ]
             }
            ],
            "label": "Samburu",
            "method": "update"
           },
           {
            "args": [
             {
              "visible": [
               false,
               false,
               false,
               false,
               false,
               false,
               false,
               false,
               false,
               false,
               false,
               false,
               false,
               false,
               false,
               false,
               false,
               true,
               false,
               false,
               false,
               false,
               false
              ]
             }
            ],
            "label": "Taita taveta",
            "method": "update"
           },
           {
            "args": [
             {
              "visible": [
               false,
               false,
               false,
               false,
               false,
               false,
               false,
               false,
               false,
               false,
               false,
               false,
               false,
               false,
               false,
               false,
               false,
               false,
               true,
               false,
               false,
               false,
               false
              ]
             }
            ],
            "label": "Tana river",
            "method": "update"
           },
           {
            "args": [
             {
              "visible": [
               false,
               false,
               false,
               false,
               false,
               false,
               false,
               false,
               false,
               false,
               false,
               false,
               false,
               false,
               false,
               false,
               false,
               false,
               false,
               true,
               false,
               false,
               false
              ]
             }
            ],
            "label": "Tharaka nithi",
            "method": "update"
           },
           {
            "args": [
             {
              "visible": [
               false,
               false,
               false,
               false,
               false,
               false,
               false,
               false,
               false,
               false,
               false,
               false,
               false,
               false,
               false,
               false,
               false,
               false,
               false,
               false,
               true,
               false,
               false
              ]
             }
            ],
            "label": "Turkana",
            "method": "update"
           },
           {
            "args": [
             {
              "visible": [
               false,
               false,
               false,
               false,
               false,
               false,
               false,
               false,
               false,
               false,
               false,
               false,
               false,
               false,
               false,
               false,
               false,
               false,
               false,
               false,
               false,
               true,
               false
              ]
             }
            ],
            "label": "Wajir",
            "method": "update"
           },
           {
            "args": [
             {
              "visible": [
               false,
               false,
               false,
               false,
               false,
               false,
               false,
               false,
               false,
               false,
               false,
               false,
               false,
               false,
               false,
               false,
               false,
               false,
               false,
               false,
               false,
               false,
               true
              ]
             }
            ],
            "label": "West pokot",
            "method": "update"
           }
          ],
          "type": "dropdown",
          "x": 0,
          "xanchor": "left",
          "y": 1.1,
          "yanchor": "bottom"
         }
        ],
        "width": 1000
       }
      }
     },
     "metadata": {},
     "output_type": "display_data"
    }
   ],
   "source": [
    "\n",
    "\n",
    "fig = go.Figure()\n",
    "county_list = drought_by_county['County:'].unique()\n",
    "\n",
    "for county in county_list:\n",
    "    fig.add_trace(go.Scatter(x=drought_by_county['Year:'][drought_by_county['County:']==county], y=drought_by_county['Pasture condition:'][drought_by_county['County:']==county], name=county, visible=False)),\n",
    "\n",
    "buttons = []\n",
    "\n",
    "for i, county in enumerate(county_list):\n",
    "    args  = [False] * len(county_list)\n",
    "    args[i] = True\n",
    "\n",
    "    button = dict(label=county, method=\"update\", args=[{\"visible\": args}])\n",
    "    buttons.append(button)\n",
    "\n",
    "\n",
    "fig.update_layout(updatemenus=[dict(active=0, type=\"dropdown\", buttons=buttons, x=0, y=1.1, xanchor='left', yanchor='bottom')], autosize=False, width=1000, height=800)"
   ]
  },
  {
   "cell_type": "code",
   "execution_count": null,
   "metadata": {},
   "outputs": [],
   "source": []
  }
 ],
 "metadata": {
  "interpreter": {
   "hash": "8ef3c73b63c2cfea72c80e6119d2a5e6434b23015bb2e52bc9c7819005bd966c"
  },
  "kernelspec": {
   "display_name": "Python 3.10.2 ('.venv': venv)",
   "language": "python",
   "name": "python3"
  },
  "language_info": {
   "codemirror_mode": {
    "name": "ipython",
    "version": 3
   },
   "file_extension": ".py",
   "mimetype": "text/x-python",
   "name": "python",
   "nbconvert_exporter": "python",
   "pygments_lexer": "ipython3",
   "version": "3.10.2"
  },
  "orig_nbformat": 4
 },
 "nbformat": 4,
 "nbformat_minor": 2
}
